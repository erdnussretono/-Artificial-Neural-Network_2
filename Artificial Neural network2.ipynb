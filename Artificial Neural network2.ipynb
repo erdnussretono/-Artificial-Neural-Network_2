{
 "cells": [
  {
   "cell_type": "markdown",
   "id": "7570396a",
   "metadata": {},
   "source": [
    "# 층 추가하기"
   ]
  },
  {
   "cell_type": "code",
   "execution_count": 1,
   "id": "031866d2",
   "metadata": {},
   "outputs": [],
   "source": [
    "from tensorflow import keras\n",
    "(train_input, train_target), (test_input, test_target) = \\\n",
    "keras.datasets.fashion_mnist.load_data()"
   ]
  },
  {
   "cell_type": "code",
   "execution_count": 2,
   "id": "c39291bf",
   "metadata": {},
   "outputs": [],
   "source": [
    "from sklearn.model_selection import train_test_split\n",
    "train_scaled = train_input / 255.0\n",
    "train_scaled = train_scaled.reshape(-1, 28*28)\n",
    "train_scaled, val_scaled, train_target, val_target = train_test_split(\n",
    "train_scaled, train_target, test_size=0.2, random_state=42)"
   ]
  },
  {
   "cell_type": "markdown",
   "id": "15a23447",
   "metadata": {},
   "source": [
    "##### 입력층과 출력층 사이에 있는 모든 층을 은닉층이라고 한다.\n",
    "##### 은닉층에도 활성화 함수가 적용된다."
   ]
  },
  {
   "cell_type": "code",
   "execution_count": 3,
   "id": "7468c9ef",
   "metadata": {},
   "outputs": [],
   "source": [
    "# 층 추가하기\n",
    "# 은닉층 활성화 함수 sigmoid 적용\n",
    "dense1 = keras.layers.Dense(100, activation='sigmoid', input_shape=(784,))\n",
    "dense2 = keras.layers.Dense(10, activation='softmax')"
   ]
  },
  {
   "cell_type": "code",
   "execution_count": 4,
   "id": "1cec86e4",
   "metadata": {},
   "outputs": [],
   "source": [
    "model = keras.Sequential([dense1, dense2])"
   ]
  },
  {
   "cell_type": "code",
   "execution_count": 5,
   "id": "fcafd68f",
   "metadata": {},
   "outputs": [
    {
     "name": "stdout",
     "output_type": "stream",
     "text": [
      "Model: \"sequential\"\n",
      "_________________________________________________________________\n",
      "Layer (type)                 Output Shape              Param #   \n",
      "=================================================================\n",
      "dense (Dense)                (None, 100)               78500     \n",
      "_________________________________________________________________\n",
      "dense_1 (Dense)              (None, 10)                1010      \n",
      "=================================================================\n",
      "Total params: 79,510\n",
      "Trainable params: 79,510\n",
      "Non-trainable params: 0\n",
      "_________________________________________________________________\n"
     ]
    }
   ],
   "source": [
    "# 층에 대한 정보 확인\n",
    "model.summary()"
   ]
  },
  {
   "cell_type": "markdown",
   "id": "25906b2b",
   "metadata": {},
   "source": [
    "##### 케라스 모델의 fit() method에 훈련데이터를 주입하면 미니배치 경사 하강법을 사용합니다. 케라스의 기본 미니배치 크기는 32입니다. 은닉층의 뉴런 개수를 100개로 했기 때문에 100개의 출력이 나왔습니다. 마지막 파라미터 개수는 입력픽셀과 100개의 모든 조합에 가중치 100개를 더한 값이고 출력층도 100개의 입력과 10개의 출력 10개의 절편이 더해져 나온 값 입니다."
   ]
  },
  {
   "cell_type": "markdown",
   "id": "d443010f",
   "metadata": {},
   "source": [
    "## 층을 추가하는 방법들"
   ]
  },
  {
   "cell_type": "code",
   "execution_count": 6,
   "id": "853e2324",
   "metadata": {},
   "outputs": [],
   "source": [
    "model = keras.Sequential([\n",
    "    keras.layers.Dense(100, activation='sigmoid', input_shape=(784,),\n",
    "                      name='hidden'),\n",
    "    keras.layers.Dense(10, activation='softmax', name='output')\n",
    "], name='패션 MNIST 모델')"
   ]
  },
  {
   "cell_type": "code",
   "execution_count": 7,
   "id": "18311a10",
   "metadata": {
    "scrolled": true
   },
   "outputs": [
    {
     "name": "stdout",
     "output_type": "stream",
     "text": [
      "Model: \"패션 MNIST 모델\"\n",
      "_________________________________________________________________\n",
      "Layer (type)                 Output Shape              Param #   \n",
      "=================================================================\n",
      "hidden (Dense)               (None, 100)               78500     \n",
      "_________________________________________________________________\n",
      "output (Dense)               (None, 10)                1010      \n",
      "=================================================================\n",
      "Total params: 79,510\n",
      "Trainable params: 79,510\n",
      "Non-trainable params: 0\n",
      "_________________________________________________________________\n"
     ]
    }
   ],
   "source": [
    "# 각 층과 모델의 이름을 정해줄 수 있다.\n",
    "model.summary()"
   ]
  },
  {
   "cell_type": "code",
   "execution_count": 8,
   "id": "c2430eec",
   "metadata": {},
   "outputs": [],
   "source": [
    "# add로 추가\n",
    "model = keras.Sequential()\n",
    "model.add(keras.layers.Dense(100, activation='sigmoid', input_shape=(784,)))\n",
    "model.add(keras.layers.Dense(10, activation='softmax'))"
   ]
  },
  {
   "cell_type": "code",
   "execution_count": 9,
   "id": "50685170",
   "metadata": {},
   "outputs": [
    {
     "name": "stdout",
     "output_type": "stream",
     "text": [
      "Model: \"sequential_1\"\n",
      "_________________________________________________________________\n",
      "Layer (type)                 Output Shape              Param #   \n",
      "=================================================================\n",
      "dense_2 (Dense)              (None, 100)               78500     \n",
      "_________________________________________________________________\n",
      "dense_3 (Dense)              (None, 10)                1010      \n",
      "=================================================================\n",
      "Total params: 79,510\n",
      "Trainable params: 79,510\n",
      "Non-trainable params: 0\n",
      "_________________________________________________________________\n"
     ]
    }
   ],
   "source": [
    "model.summary()"
   ]
  },
  {
   "cell_type": "code",
   "execution_count": 10,
   "id": "79680a5b",
   "metadata": {
    "scrolled": true
   },
   "outputs": [
    {
     "name": "stdout",
     "output_type": "stream",
     "text": [
      "Epoch 1/5\n",
      "1500/1500 [==============================] - 5s 3ms/step - loss: 0.5643 - accuracy: 0.8081\n",
      "Epoch 2/5\n",
      "1500/1500 [==============================] - 3s 2ms/step - loss: 0.4081 - accuracy: 0.8540\n",
      "Epoch 3/5\n",
      "1500/1500 [==============================] - 4s 3ms/step - loss: 0.3731 - accuracy: 0.8648\n",
      "Epoch 4/5\n",
      "1500/1500 [==============================] - 3s 2ms/step - loss: 0.3506 - accuracy: 0.8734\n",
      "Epoch 5/5\n",
      "1500/1500 [==============================] - 3s 2ms/step - loss: 0.3340 - accuracy: 0.8793\n"
     ]
    },
    {
     "data": {
      "text/plain": [
       "<tensorflow.python.keras.callbacks.History at 0x1be7c7e0730>"
      ]
     },
     "execution_count": 10,
     "metadata": {},
     "output_type": "execute_result"
    }
   ],
   "source": [
    "model.compile(loss='sparse_categorical_crossentropy', metrics='accuracy')\n",
    "model.fit(train_scaled, train_target, epochs=5)"
   ]
  },
  {
   "cell_type": "markdown",
   "id": "1ab7eb88",
   "metadata": {},
   "source": [
    "##### 은닉층을 추가해주니 정확도가 더 올랐다."
   ]
  },
  {
   "cell_type": "markdown",
   "id": "15637a9b",
   "metadata": {},
   "source": [
    "# ReLU"
   ]
  },
  {
   "cell_type": "markdown",
   "id": "98f5f7fd",
   "metadata": {},
   "source": [
    "##### 시그모이드 함수의 단점은 함수의 양쪽 끝으로 갈 수록 그래프가 완만해져 올바른 출력을 신속하게 대응하지 못한다는 것입니다. \n",
    "##### 이 단점을 보완하는 함수가 렐루(ReLU)함수 입니다. \n",
    "##### 렐루는 입력이 양수일 경우 활성화 함수가 없는 것 처럼 입력을 통과시키고 음수일 경우는 0으로 만듭니다. \n",
    "##### 렐루 함수는 이미지 처리에서 좋은 성능을 낸다고 알려져 있습니다."
   ]
  },
  {
   "cell_type": "code",
   "execution_count": 11,
   "id": "e0c07bda",
   "metadata": {},
   "outputs": [],
   "source": [
    "model = keras.Sequential()\n",
    "# Flatten층을 사용하면 2차원 배열을 1차원 배열로 펼칠 필요 없이 바로 사용 가능합니다.\n",
    "model.add(keras.layers.Flatten(input_shape=(28,28)))\n",
    "model.add(keras.layers.Dense(100, activation='relu')) # ReLU 사용\n",
    "model.add(keras.layers.Dense(10, activation='softmax'))"
   ]
  },
  {
   "cell_type": "code",
   "execution_count": 12,
   "id": "06941e49",
   "metadata": {},
   "outputs": [
    {
     "name": "stdout",
     "output_type": "stream",
     "text": [
      "Model: \"sequential_2\"\n",
      "_________________________________________________________________\n",
      "Layer (type)                 Output Shape              Param #   \n",
      "=================================================================\n",
      "flatten (Flatten)            (None, 784)               0         \n",
      "_________________________________________________________________\n",
      "dense_4 (Dense)              (None, 100)               78500     \n",
      "_________________________________________________________________\n",
      "dense_5 (Dense)              (None, 10)                1010      \n",
      "=================================================================\n",
      "Total params: 79,510\n",
      "Trainable params: 79,510\n",
      "Non-trainable params: 0\n",
      "_________________________________________________________________\n"
     ]
    }
   ],
   "source": [
    "model.summary()"
   ]
  },
  {
   "cell_type": "code",
   "execution_count": 13,
   "id": "e3fa3999",
   "metadata": {},
   "outputs": [],
   "source": [
    "# flatten 층에 대한 데이터 준비\n",
    "(train_input, train_target), (test_input, test_target) = \\\n",
    "keras.datasets.fashion_mnist.load_data()\n",
    "train_scaled = train_input / 255.0\n",
    "train_scaled, val_scaled, train_target, val_target = train_test_split(\n",
    "train_scaled, train_target, test_size=0.2, random_state=42)"
   ]
  },
  {
   "cell_type": "code",
   "execution_count": 14,
   "id": "b486202a",
   "metadata": {},
   "outputs": [
    {
     "name": "stdout",
     "output_type": "stream",
     "text": [
      "Epoch 1/5\n",
      "1500/1500 [==============================] - 4s 2ms/step - loss: 0.5337 - accuracy: 0.8108\n",
      "Epoch 2/5\n",
      "1500/1500 [==============================] - 4s 3ms/step - loss: 0.3936 - accuracy: 0.8590\n",
      "Epoch 3/5\n",
      "1500/1500 [==============================] - 3s 2ms/step - loss: 0.3559 - accuracy: 0.8723\n",
      "Epoch 4/5\n",
      "1500/1500 [==============================] - 3s 2ms/step - loss: 0.3344 - accuracy: 0.8802\n",
      "Epoch 5/5\n",
      "1500/1500 [==============================] - 3s 2ms/step - loss: 0.3189 - accuracy: 0.8877\n"
     ]
    },
    {
     "data": {
      "text/plain": [
       "<tensorflow.python.keras.callbacks.History at 0x1be315e4b80>"
      ]
     },
     "execution_count": 14,
     "metadata": {},
     "output_type": "execute_result"
    }
   ],
   "source": [
    "model.compile(loss='sparse_categorical_crossentropy', metrics='accuracy')\n",
    "model.fit(train_scaled, train_target, epochs=5)"
   ]
  },
  {
   "cell_type": "markdown",
   "id": "320e1e30",
   "metadata": {},
   "source": [
    "##### sigmoid보다 정확도가 더 올랐다."
   ]
  },
  {
   "cell_type": "code",
   "execution_count": 15,
   "id": "ac227c5d",
   "metadata": {},
   "outputs": [
    {
     "name": "stdout",
     "output_type": "stream",
     "text": [
      "375/375 [==============================] - 1s 1ms/step - loss: 0.3830 - accuracy: 0.8711\n"
     ]
    },
    {
     "data": {
      "text/plain": [
       "[0.38300782442092896, 0.8710833191871643]"
      ]
     },
     "execution_count": 15,
     "metadata": {},
     "output_type": "execute_result"
    }
   ],
   "source": [
    "model.evaluate(val_scaled, val_target)"
   ]
  },
  {
   "cell_type": "markdown",
   "id": "58b63fc3",
   "metadata": {},
   "source": [
    "# Optimizer"
   ]
  },
  {
   "cell_type": "markdown",
   "id": "fc9308cf",
   "metadata": {},
   "source": [
    "##### 케라스는 다양한 종류의 경사하강법 알고리즘을 제공하는데 이를 옵티마이저(optimizer)라고 합니다.\n",
    "##### 기본적으로 미니배치를 사용합니다. 배치 크기 기본 32"
   ]
  },
  {
   "cell_type": "markdown",
   "id": "b734c85d",
   "metadata": {},
   "source": [
    "### SGD(확률적 경사 하강법 사용)"
   ]
  },
  {
   "cell_type": "code",
   "execution_count": 16,
   "id": "33ba58ff",
   "metadata": {},
   "outputs": [],
   "source": [
    "# sgd = keras.optimizers.SGD() 없이도 자동 객체 생성된다.\n",
    "model.compile(optimizer='sgd', loss='sparse_categorical_crossentropy',\n",
    "             metrics='accuracy')"
   ]
  },
  {
   "cell_type": "markdown",
   "id": "e711f1aa",
   "metadata": {},
   "source": [
    "##### 기본 경사 하강법 옵티마이저는 SGD Class에서 제공합니다.\n",
    "##### SGD Class의 momentum 매개변수 기본값은 0입니다. 0보다 큰 값으로 지정하면 그레이디언트 가속도처럼 사용하는 모멘텀 최적화를 사용합니다.\n",
    "##### nesterov 매개변수를 기본값 False에서 True로 바꾸면 네스테로프 모멘텀 최적화를 사용합니다."
   ]
  },
  {
   "cell_type": "code",
   "execution_count": 17,
   "id": "c0dd3233",
   "metadata": {},
   "outputs": [],
   "source": [
    "# momentum\n",
    "sgd = keras.optimizers.SGD(momentum=0.9, nesterov=True)"
   ]
  },
  {
   "cell_type": "markdown",
   "id": "ce20fcb1",
   "metadata": {},
   "source": [
    "##### 모델이 최적점에 가까이 갈 수록 학습률을 낮출 수 있습니다.\n",
    "##### 이런 학습률을 적응적 학습률(adaptive learning rate)이라고 합니다.\n",
    "##### 적응적 학습률을 사용하는 대표적인 옵티마이저는 Adagrad와 RMSprop입니다."
   ]
  },
  {
   "cell_type": "code",
   "execution_count": 18,
   "id": "0ca389a4",
   "metadata": {},
   "outputs": [],
   "source": [
    "# adagrad\n",
    "adagrad = keras.optimizers.Adagrad()\n",
    "model.compile(optimizer=adagrad, loss='sparse_categorical_crossentropy',\n",
    "             metrics='accuracy')"
   ]
  },
  {
   "cell_type": "code",
   "execution_count": 19,
   "id": "44737c30",
   "metadata": {},
   "outputs": [],
   "source": [
    "# rmsprop\n",
    "rmsprop = keras.optimizers.RMSprop()\n",
    "model.compile(optimizer=rmsprop, loss='sparse_categorical_crossentropy',\n",
    "             metrics='accuracy')"
   ]
  },
  {
   "cell_type": "markdown",
   "id": "7554419a",
   "metadata": {},
   "source": [
    "##### 모멘텀 최적화와 RMSprop의 장점을 접목한 것이 Adam입니다.\n",
    "##### 적응적 학습률을 사용하는 이 3개의 클래스는 learning_rate 매개변수의 기본값으로 모두 0.0001을 사용합니다."
   ]
  },
  {
   "cell_type": "markdown",
   "id": "593ffc69",
   "metadata": {},
   "source": [
    "### Adam 사용"
   ]
  },
  {
   "cell_type": "code",
   "execution_count": 20,
   "id": "4c544f70",
   "metadata": {},
   "outputs": [],
   "source": [
    "model = keras.Sequential()\n",
    "model.add(keras.layers.Flatten(input_shape=(28,28)))\n",
    "model.add(keras.layers.Dense(100, activation='relu'))\n",
    "model.add(keras.layers.Dense(10, activation='softmax'))"
   ]
  },
  {
   "cell_type": "code",
   "execution_count": 21,
   "id": "3a09b5b8",
   "metadata": {},
   "outputs": [
    {
     "name": "stdout",
     "output_type": "stream",
     "text": [
      "Epoch 1/5\n",
      "1500/1500 [==============================] - 4s 2ms/step - loss: 0.5273 - accuracy: 0.8165\n",
      "Epoch 2/5\n",
      "1500/1500 [==============================] - 3s 2ms/step - loss: 0.3941 - accuracy: 0.8587\n",
      "Epoch 3/5\n",
      "1500/1500 [==============================] - 3s 2ms/step - loss: 0.3541 - accuracy: 0.8708\n",
      "Epoch 4/5\n",
      "1500/1500 [==============================] - 3s 2ms/step - loss: 0.3274 - accuracy: 0.8813\n",
      "Epoch 5/5\n",
      "1500/1500 [==============================] - 3s 2ms/step - loss: 0.3106 - accuracy: 0.8853\n"
     ]
    },
    {
     "data": {
      "text/plain": [
       "<tensorflow.python.keras.callbacks.History at 0x1be3cd7cca0>"
      ]
     },
     "execution_count": 21,
     "metadata": {},
     "output_type": "execute_result"
    }
   ],
   "source": [
    "model.compile(optimizer='adam', loss='sparse_categorical_crossentropy',\n",
    "             metrics='accuracy')\n",
    "model.fit(train_scaled, train_target, epochs=5)"
   ]
  },
  {
   "cell_type": "code",
   "execution_count": 22,
   "id": "1876169b",
   "metadata": {},
   "outputs": [
    {
     "name": "stdout",
     "output_type": "stream",
     "text": [
      "375/375 [==============================] - 1s 1ms/step - loss: 0.3252 - accuracy: 0.8827\n"
     ]
    },
    {
     "data": {
      "text/plain": [
       "[0.3251563012599945, 0.8826666474342346]"
      ]
     },
     "execution_count": 22,
     "metadata": {},
     "output_type": "execute_result"
    }
   ],
   "source": [
    "model.evaluate(val_scaled, val_target)"
   ]
  }
 ],
 "metadata": {
  "kernelspec": {
   "display_name": "Python 3",
   "language": "python",
   "name": "python3"
  },
  "language_info": {
   "codemirror_mode": {
    "name": "ipython",
    "version": 3
   },
   "file_extension": ".py",
   "mimetype": "text/x-python",
   "name": "python",
   "nbconvert_exporter": "python",
   "pygments_lexer": "ipython3",
   "version": "3.8.10"
  }
 },
 "nbformat": 4,
 "nbformat_minor": 5
}
